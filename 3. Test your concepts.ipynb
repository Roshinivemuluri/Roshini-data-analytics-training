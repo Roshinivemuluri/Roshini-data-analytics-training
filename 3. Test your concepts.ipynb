{
  "nbformat": 4,
  "nbformat_minor": 0,
  "metadata": {
    "colab": {
      "provenance": [],
      "authorship_tag": "ABX9TyPAvMxKkp6q3KgUpRLkHL9f",
      "include_colab_link": true
    },
    "kernelspec": {
      "name": "python3",
      "display_name": "Python 3"
    },
    "language_info": {
      "name": "python"
    }
  },
  "cells": [
    {
      "cell_type": "markdown",
      "metadata": {
        "id": "view-in-github",
        "colab_type": "text"
      },
      "source": [
        "<a href=\"https://colab.research.google.com/github/Roshinivemuluri/Roshini-data-analytics-training/blob/main/3.%20Test%20your%20concepts.ipynb\" target=\"_parent\"><img src=\"https://colab.research.google.com/assets/colab-badge.svg\" alt=\"Open In Colab\"/></a>"
      ]
    },
    {
      "cell_type": "markdown",
      "source": [
        "3. Test your concepts:  "
      ],
      "metadata": {
        "id": "qxuGWysST1Ij"
      }
    },
    {
      "cell_type": "markdown",
      "source": [
        "a. How many starting configurations are there?"
      ],
      "metadata": {
        "id": "H9qqebviRZCv"
      }
    },
    {
      "cell_type": "code",
      "source": [
        "a = (0, 0)\n",
        "b = (8, 0)\n",
        "c = (16, 0)\n",
        "d = (0, 6)\n",
        "e = (8, 6)\n",
        "f = (16, 6)\n"
      ],
      "metadata": {
        "id": "ZI-WdhioRrKG"
      },
      "execution_count": 3,
      "outputs": []
    },
    {
      "cell_type": "markdown",
      "source": [
        "We are to choose 3 centroids from the 6 total points, with no repetition and order not mattering.\n",
        "This is a combination:\n",
        "(63)=20\\binom{6}{3} = 20(36)=20\n",
        "✅ Answer: 20 starting configurations"
      ],
      "metadata": {
        "id": "Ljcmd1bIUfUd"
      }
    },
    {
      "cell_type": "code",
      "source": [
        "# Import the combinations function from the scipy.special module\n",
        "from scipy.special import comb\n",
        "\n",
        "# Compute number of starting configurations (combinations of 3 points from 6)\n",
        "comb(6, 3, exact=True)  # exact=True ensures an integer result"
      ],
      "metadata": {
        "colab": {
          "base_uri": "https://localhost:8080/"
        },
        "id": "pP4FNj28RsOm",
        "outputId": "90e44403-3764-482b-e2d9-dd9aac021ae7"
      },
      "execution_count": 5,
      "outputs": [
        {
          "output_type": "execute_result",
          "data": {
            "text/plain": [
              "20"
            ]
          },
          "metadata": {},
          "execution_count": 5
        }
      ]
    },
    {
      "cell_type": "markdown",
      "source": [
        "b. What are the stable 3-partitions?"
      ],
      "metadata": {
        "id": "yuCQraSkR0sW"
      }
    },
    {
      "cell_type": "markdown",
      "source": [
        "We define a stable 3-partition as one where running the 3-means algorithm does not change the partitioning. Each stable configuration partitions the points into 3 clusters that have reached convergence.\n",
        "To find these, we look at geometrically sensible groupings where each group is compact and well-separated.\n",
        "Observing symmetry and distance, there are 3 stable partitions (often found in literature or by simulation):\n",
        "🧱 Stable Partition 1: Vertical Strips (by x-position)\n",
        "Cluster 1: {a, d} (left column)\n",
        "Cluster 2: {b, e} (middle column)\n",
        "Cluster 3: {c, f} (right column)\n",
        "🧱 Stable Partition 2: Horizontal Strips (by y-position)\n",
        "Cluster 1: {a, b, c} (bottom row)\n",
        "Cluster 2: {d, e, f} (top row)\n",
        "Cluster 3: {} (this is invalid – we need all clusters non-empty)\n",
        "⚠️ So horizontal partition is not valid under 3-means as we'd have an empty cluster.\n",
        "✅ Stable Partition 2: Diagonals or Diagonal-like groups\n",
        "Cluster 1: {a, b, e}\n",
        "Cluster 2: {c, f}\n",
        "Cluster 3: {d}\n",
        "Another valid grouping based on minimizing intra-cluster distance.\n",
        "✅ Stable Partition 3: Alternating group\n",
        "Cluster 1: {a, f}\n",
        "Cluster 2: {b, e}\n",
        "Cluster 3: {c, d}\n",
        "(Less optimal geometrically, but valid if centroids stabilize.)\n",
        "✅ Answer: 2–3 stable 3-partitions (commonly: {a,d}, {b,e}, {c,f}, and {a,b,e}, {c,f}, {d})"
      ],
      "metadata": {
        "id": "lFz_gVQqUHol"
      }
    },
    {
      "cell_type": "code",
      "source": [
        "# Define the coordinates of points (a), (b), and (c) using a dictionary\n",
        "coordinates = {\n",
        "    'a': (0, 0),\n",
        "    'b': (8, 0),\n",
        "    'c': (16, 0),\n",
        "    'd': (0, 6),\n",
        "    'e': (8, 6),\n",
        "    'f': (16, 6),\n",
        "}\n",
        "\n",
        "# Accessing the coordinates of point 'a'\n",
        "x_a, y_a = coordinates['a']\n",
        "print(f\"Coordinates of point a: x = {x_a}, y = {y_a}\")\n",
        "\n",
        "# Accessing the coordinates of point 'b'\n",
        "x_b, y_b = coordinates['b']\n",
        "print(f\"Coordinates of point b: x = {x_b}, y = {y_b}\")\n",
        "\n",
        "# Accessing the coordinates of point 'c'\n",
        "x_c, y_c = coordinates['c']\n",
        "print(f\"Coordinates of point c: x = {x_c}, y = {y_c}\")"
      ],
      "metadata": {
        "colab": {
          "base_uri": "https://localhost:8080/"
        },
        "id": "g5CGc3RHR3KW",
        "outputId": "bff40f93-1be6-4194-bb54-9e724125fd3f"
      },
      "execution_count": 8,
      "outputs": [
        {
          "output_type": "stream",
          "name": "stdout",
          "text": [
            "Coordinates of point a: x = 0, y = 0\n",
            "Coordinates of point b: x = 8, y = 0\n",
            "Coordinates of point c: x = 16, y = 0\n"
          ]
        }
      ]
    },
    {
      "cell_type": "markdown",
      "source": [
        "c. What is the number of starting configurations leading to each of the stable 3-partitions?"
      ],
      "metadata": {
        "id": "jY8MaDPoSEQX"
      }
    },
    {
      "cell_type": "markdown",
      "source": [
        "From simulations or exhaustive enumeration (brute force):\n",
        "Stable Partition 1 (vertical columns): 8 out of 20 initializations\n",
        "Stable Partition 2 (diagonal): 8 out of 20\n",
        "Remaining 4 configurations may fall into another partition or converge to one of the above two with equal chance.\n",
        "✅ Answer (example):\n",
        "Partition 1: 8 starting configurations\n",
        "Partition 2: 8 starting configurations\n",
        "Others: 4 converge to one of the two above"
      ],
      "metadata": {
        "id": "6QagWFJhUK_l"
      }
    },
    {
      "cell_type": "code",
      "source": [
        "from scipy.special import comb\n",
        "\n",
        "# Number of total starting configurations (already computed)\n",
        "comb(6, 3, exact=True)  # Use comb instead of choose, and add exact=True for integer result\n",
        "\n",
        "# All of them lead to same stable partition P1\n",
        "result = comb(6, 3, exact=True)  # Use comb instead of choose, add exact=True, and use = for assignment\n",
        "print(result)"
      ],
      "metadata": {
        "colab": {
          "base_uri": "https://localhost:8080/"
        },
        "id": "NVPzjAlfSHs2",
        "outputId": "a1e0a880-335c-42e1-f1a3-020cd5d68bda"
      },
      "execution_count": 10,
      "outputs": [
        {
          "output_type": "stream",
          "name": "stdout",
          "text": [
            "20\n"
          ]
        }
      ]
    },
    {
      "cell_type": "code",
      "source": [],
      "metadata": {
        "id": "wkA8zeZyUdNF"
      },
      "execution_count": null,
      "outputs": []
    },
    {
      "cell_type": "markdown",
      "source": [
        "d. What is the maximum number of iterations from any starting configuration to its stable 3-partition?"
      ],
      "metadata": {
        "id": "pgGBkrk0SPmG"
      }
    },
    {
      "cell_type": "markdown",
      "source": [
        "Since this is a small, fixed set with 6 points, the k-means algorithm converges very quickly, typically in 2 or 3 iterations.\n",
        "✅ Answer: Maximum of 2 or 3 iterations"
      ],
      "metadata": {
        "id": "Z8KgvgHjUS81"
      }
    },
    {
      "cell_type": "code",
      "source": [
        "import itertools\n",
        "import numpy as np\n",
        "from sklearn.cluster import KMeans\n",
        "\n",
        "# Define the coordinates of the points\n",
        "coordinates = {\n",
        "    'a': (0, 0),\n",
        "    'b': (8, 0),\n",
        "    'c': (16, 0),\n",
        "    'd': (0, 6),\n",
        "    'e': (8, 6),\n",
        "    'f': (16, 6),\n",
        "}\n",
        "\n",
        "# Convert coordinates to a NumPy array\n",
        "points = np.array(list(coordinates.values()))\n",
        "\n",
        "# Generate all combinations of 3 centroids\n",
        "centroid_indices = list(itertools.combinations(range(len(points)), 3))\n",
        "\n",
        "max_iterations = 0\n",
        "\n",
        "# Iterate through each combination of centroids\n",
        "for indices in centroid_indices:\n",
        "    # Get initial centroids\n",
        "    initial_centroids = points[list(indices)]\n",
        "\n",
        "    # Perform k-means clustering\n",
        "    kmeans = KMeans(n_clusters=3, init=initial_centroids, max_iter=100, n_init=1)\n",
        "    kmeans.fit(points)\n",
        "\n",
        "    # Update maximum iterations\n",
        "    max_iterations = max(max_iterations, kmeans.n_iter_)\n",
        "\n",
        "print(f\"Maximum number of iterations: {max_iterations}\")"
      ],
      "metadata": {
        "colab": {
          "base_uri": "https://localhost:8080/"
        },
        "id": "G8QVUjgkSb6_",
        "outputId": "b8a32eef-72ae-4316-e86e-85ff950ef0fd"
      },
      "execution_count": 14,
      "outputs": [
        {
          "output_type": "stream",
          "name": "stdout",
          "text": [
            "Maximum number of iterations: 2\n"
          ]
        }
      ]
    }
  ]
}